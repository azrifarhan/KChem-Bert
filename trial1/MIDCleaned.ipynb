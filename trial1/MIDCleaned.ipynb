{
 "cells": [
  {
   "cell_type": "code",
   "execution_count": 1,
   "id": "9f311435",
   "metadata": {},
   "outputs": [],
   "source": [
    "import pandas as pd\n",
    "\n",
    "mid = r'C:\\Users\\Azri\\Downloads\\Drug\\MID.xlsx'\n",
    "\n",
    "tet = pd.read_excel(mid,skiprows=100000)"
   ]
  },
  {
   "cell_type": "code",
   "execution_count": 7,
   "id": "9bd472d2",
   "metadata": {},
   "outputs": [],
   "source": [
    "name = ['Name','Link','Contains','ProdInfo','Uses','Benefits','SideEffect','HowUse','HowWorks','Tips','Safety','Class','Habit','Therapuetic','Action']"
   ]
  },
  {
   "cell_type": "code",
   "execution_count": 8,
   "id": "7b386387",
   "metadata": {},
   "outputs": [],
   "source": [
    "tet.columns= name"
   ]
  },
  {
   "cell_type": "code",
   "execution_count": 9,
   "id": "4d2dacd2",
   "metadata": {},
   "outputs": [],
   "source": [
    "df_split = tet[\"Safety\"].str.split(\".\", expand=True)"
   ]
  },
  {
   "cell_type": "code",
   "execution_count": 10,
   "id": "548a5a24",
   "metadata": {},
   "outputs": [],
   "source": [
    "df = df_split.iloc[:, 0]"
   ]
  },
  {
   "cell_type": "code",
   "execution_count": 11,
   "id": "5e932c77",
   "metadata": {},
   "outputs": [],
   "source": [
    "df = df.str.split(\"\\nAlcohol\\n,\\n\", expand=True)"
   ]
  },
  {
   "cell_type": "code",
   "execution_count": 12,
   "id": "78b6cd1a",
   "metadata": {},
   "outputs": [],
   "source": [
    "mid = pd.DataFrame()\n",
    "mid['Name'] = tet['Name']\n",
    "mid['Chemicals'] = tet['Contains']\n",
    "mid['Safety'] = df.iloc[:, 1]"
   ]
  },
  {
   "cell_type": "code",
   "execution_count": 13,
   "id": "d9b4398e",
   "metadata": {},
   "outputs": [],
   "source": [
    "mid['Sent1'] = mid['Name']+' contains '+mid['Chemicals'] + ' and '+mid['Safety']"
   ]
  },
  {
   "cell_type": "code",
   "execution_count": 14,
   "id": "530a0605",
   "metadata": {},
   "outputs": [
    {
     "data": {
      "text/plain": [
       "'Lomibact 3mg Drop contains Lomefloxacin (3mg) and Consuming alcohol with Lomibact 3mg Drop does not cause any harmful side effects'"
      ]
     },
     "execution_count": 14,
     "metadata": {},
     "output_type": "execute_result"
    }
   ],
   "source": [
    "mid['Sent1'][0]"
   ]
  },
  {
   "cell_type": "code",
   "execution_count": 16,
   "id": "a9311f36",
   "metadata": {},
   "outputs": [],
   "source": [
    "mid['class'] = tet['Therapuetic']"
   ]
  },
  {
   "cell_type": "code",
   "execution_count": 17,
   "id": "b3e51224",
   "metadata": {},
   "outputs": [
    {
     "data": {
      "text/plain": [
       "92807"
      ]
     },
     "execution_count": 17,
     "metadata": {},
     "output_type": "execute_result"
    }
   ],
   "source": [
    "len(mid)"
   ]
  },
  {
   "cell_type": "code",
   "execution_count": 18,
   "id": "6135eee0",
   "metadata": {},
   "outputs": [],
   "source": [
    "ner_sample = mid.sample(n=100)"
   ]
  },
  {
   "cell_type": "code",
   "execution_count": 19,
   "id": "da6e7380",
   "metadata": {},
   "outputs": [
    {
     "data": {
      "text/html": [
       "<div>\n",
       "<style scoped>\n",
       "    .dataframe tbody tr th:only-of-type {\n",
       "        vertical-align: middle;\n",
       "    }\n",
       "\n",
       "    .dataframe tbody tr th {\n",
       "        vertical-align: top;\n",
       "    }\n",
       "\n",
       "    .dataframe thead th {\n",
       "        text-align: right;\n",
       "    }\n",
       "</style>\n",
       "<table border=\"1\" class=\"dataframe\">\n",
       "  <thead>\n",
       "    <tr style=\"text-align: right;\">\n",
       "      <th></th>\n",
       "      <th>Name</th>\n",
       "      <th>Chemicals</th>\n",
       "      <th>Safety</th>\n",
       "      <th>Sent1</th>\n",
       "      <th>class</th>\n",
       "    </tr>\n",
       "  </thead>\n",
       "  <tbody>\n",
       "    <tr>\n",
       "      <th>8014</th>\n",
       "      <td>Micropenam-S Injection</td>\n",
       "      <td>Meropenem (1000mg)+ Sulbactam (500mg)</td>\n",
       "      <td>Caution is advised when consuming alcohol with...</td>\n",
       "      <td>Micropenam-S Injection contains Meropenem (100...</td>\n",
       "      <td>ANTI INFECTIVE</td>\n",
       "    </tr>\n",
       "    <tr>\n",
       "      <th>73385</th>\n",
       "      <td>Uroclan 1.53gm Syrup</td>\n",
       "      <td>Disodium Hydrogen Citrate (1.53gm)</td>\n",
       "      <td>It is not known whether it is safe to consume ...</td>\n",
       "      <td>Uroclan 1.53gm Syrup contains Disodium Hydroge...</td>\n",
       "      <td>UROLOGY</td>\n",
       "    </tr>\n",
       "    <tr>\n",
       "      <th>46431</th>\n",
       "      <td>Rebaxide Tablet</td>\n",
       "      <td>Chlordiazepoxide (2.5mg)+ Clidinium (5mg)</td>\n",
       "      <td>It is unsafe to consume alcohol with Rebaxide ...</td>\n",
       "      <td>Rebaxide Tablet contains Chlordiazepoxide (2.5...</td>\n",
       "      <td>GASTRO INTESTINA</td>\n",
       "    </tr>\n",
       "    <tr>\n",
       "      <th>309</th>\n",
       "      <td>Luikyne 1% Cream</td>\n",
       "      <td>Luliconazole (1% w/w)</td>\n",
       "      <td>No interaction found/established,imageAltTextA...</td>\n",
       "      <td>Luikyne 1% Cream contains Luliconazole (1% w/w...</td>\n",
       "      <td>DERM</td>\n",
       "    </tr>\n",
       "    <tr>\n",
       "      <th>29064</th>\n",
       "      <td>Onstair-O Tablet</td>\n",
       "      <td>Ondansetron (4mg)+ Omeprazole (20mg)</td>\n",
       "      <td>Caution is advised when consuming alcohol with...</td>\n",
       "      <td>Onstair-O Tablet contains Ondansetron (4mg)+ O...</td>\n",
       "      <td>GASTRO INTESTINA</td>\n",
       "    </tr>\n",
       "    <tr>\n",
       "      <th>...</th>\n",
       "      <td>...</td>\n",
       "      <td>...</td>\n",
       "      <td>...</td>\n",
       "      <td>...</td>\n",
       "      <td>...</td>\n",
       "    </tr>\n",
       "    <tr>\n",
       "      <th>42594</th>\n",
       "      <td>Roliten OD 4mg Capsule ER</td>\n",
       "      <td>Tolterodine (4mg)</td>\n",
       "      <td>Roliten OD 4mg Capsule ER may cause excessive ...</td>\n",
       "      <td>Roliten OD 4mg Capsule ER contains Tolterodine...</td>\n",
       "      <td>UROLOGY</td>\n",
       "    </tr>\n",
       "    <tr>\n",
       "      <th>30987</th>\n",
       "      <td>Pneumosil Vaccine</td>\n",
       "      <td>Pneumococcal Polysaccharide Conjugate Vaccine ...</td>\n",
       "      <td>It is not known whether it is safe to consume ...</td>\n",
       "      <td>Pneumosil Vaccine contains Pneumococcal Polysa...</td>\n",
       "      <td>VACCINES</td>\n",
       "    </tr>\n",
       "    <tr>\n",
       "      <th>80493</th>\n",
       "      <td>Vomo 2mg Oral Drops</td>\n",
       "      <td>Ondansetron (2mg)</td>\n",
       "      <td>Consuming alcohol with Vomo 2mg Oral Drops doe...</td>\n",
       "      <td>Vomo 2mg Oral Drops contains Ondansetron (2mg)...</td>\n",
       "      <td>GASTRO INTESTINAL</td>\n",
       "    </tr>\n",
       "    <tr>\n",
       "      <th>58103</th>\n",
       "      <td>Succidox 100mg Tablet DT</td>\n",
       "      <td>Cefpodoxime Proxetil (100mg)</td>\n",
       "      <td>Consuming alcohol with Succidox 100mg Tablet D...</td>\n",
       "      <td>Succidox 100mg Tablet DT contains Cefpodoxime ...</td>\n",
       "      <td>ANTI INFECTIVES</td>\n",
       "    </tr>\n",
       "    <tr>\n",
       "      <th>83615</th>\n",
       "      <td>Voglus gm 2mg Tablet</td>\n",
       "      <td>Glimepiride (2mg)+ Metformin (500mg)+ Voglibos...</td>\n",
       "      <td>It is unsafe to consume alcohol with Voglus gm...</td>\n",
       "      <td>Voglus gm 2mg Tablet contains Glimepiride (2mg...</td>\n",
       "      <td>ANTI DIABETI</td>\n",
       "    </tr>\n",
       "  </tbody>\n",
       "</table>\n",
       "<p>100 rows × 5 columns</p>\n",
       "</div>"
      ],
      "text/plain": [
       "                            Name  \\\n",
       "8014      Micropenam-S Injection   \n",
       "73385       Uroclan 1.53gm Syrup   \n",
       "46431            Rebaxide Tablet   \n",
       "309             Luikyne 1% Cream   \n",
       "29064           Onstair-O Tablet   \n",
       "...                          ...   \n",
       "42594  Roliten OD 4mg Capsule ER   \n",
       "30987          Pneumosil Vaccine   \n",
       "80493        Vomo 2mg Oral Drops   \n",
       "58103   Succidox 100mg Tablet DT   \n",
       "83615       Voglus gm 2mg Tablet   \n",
       "\n",
       "                                               Chemicals  \\\n",
       "8014               Meropenem (1000mg)+ Sulbactam (500mg)   \n",
       "73385                 Disodium Hydrogen Citrate (1.53gm)   \n",
       "46431          Chlordiazepoxide (2.5mg)+ Clidinium (5mg)   \n",
       "309                                Luliconazole (1% w/w)   \n",
       "29064               Ondansetron (4mg)+ Omeprazole (20mg)   \n",
       "...                                                  ...   \n",
       "42594                                  Tolterodine (4mg)   \n",
       "30987  Pneumococcal Polysaccharide Conjugate Vaccine ...   \n",
       "80493                                  Ondansetron (2mg)   \n",
       "58103                       Cefpodoxime Proxetil (100mg)   \n",
       "83615  Glimepiride (2mg)+ Metformin (500mg)+ Voglibos...   \n",
       "\n",
       "                                                  Safety  \\\n",
       "8014   Caution is advised when consuming alcohol with...   \n",
       "73385  It is not known whether it is safe to consume ...   \n",
       "46431  It is unsafe to consume alcohol with Rebaxide ...   \n",
       "309    No interaction found/established,imageAltTextA...   \n",
       "29064  Caution is advised when consuming alcohol with...   \n",
       "...                                                  ...   \n",
       "42594  Roliten OD 4mg Capsule ER may cause excessive ...   \n",
       "30987  It is not known whether it is safe to consume ...   \n",
       "80493  Consuming alcohol with Vomo 2mg Oral Drops doe...   \n",
       "58103  Consuming alcohol with Succidox 100mg Tablet D...   \n",
       "83615  It is unsafe to consume alcohol with Voglus gm...   \n",
       "\n",
       "                                                   Sent1                 class  \n",
       "8014   Micropenam-S Injection contains Meropenem (100...        ANTI INFECTIVE  \n",
       "73385  Uroclan 1.53gm Syrup contains Disodium Hydroge...              UROLOGY   \n",
       "46431  Rebaxide Tablet contains Chlordiazepoxide (2.5...      GASTRO INTESTINA  \n",
       "309    Luikyne 1% Cream contains Luliconazole (1% w/w...                  DERM  \n",
       "29064  Onstair-O Tablet contains Ondansetron (4mg)+ O...      GASTRO INTESTINA  \n",
       "...                                                  ...                   ...  \n",
       "42594  Roliten OD 4mg Capsule ER contains Tolterodine...              UROLOGY   \n",
       "30987  Pneumosil Vaccine contains Pneumococcal Polysa...             VACCINES   \n",
       "80493  Vomo 2mg Oral Drops contains Ondansetron (2mg)...    GASTRO INTESTINAL   \n",
       "58103  Succidox 100mg Tablet DT contains Cefpodoxime ...      ANTI INFECTIVES   \n",
       "83615  Voglus gm 2mg Tablet contains Glimepiride (2mg...          ANTI DIABETI  \n",
       "\n",
       "[100 rows x 5 columns]"
      ]
     },
     "execution_count": 19,
     "metadata": {},
     "output_type": "execute_result"
    }
   ],
   "source": [
    "ner_sample"
   ]
  },
  {
   "cell_type": "code",
   "execution_count": 20,
   "id": "09734784",
   "metadata": {},
   "outputs": [],
   "source": [
    "ner_sample.to_csv('ChemNER.csv')"
   ]
  },
  {
   "cell_type": "code",
   "execution_count": null,
   "id": "a8bb5636",
   "metadata": {},
   "outputs": [],
   "source": []
  }
 ],
 "metadata": {
  "kernelspec": {
   "display_name": "Python 3",
   "language": "python",
   "name": "python3"
  },
  "language_info": {
   "codemirror_mode": {
    "name": "ipython",
    "version": 3
   },
   "file_extension": ".py",
   "mimetype": "text/x-python",
   "name": "python",
   "nbconvert_exporter": "python",
   "pygments_lexer": "ipython3",
   "version": "3.12.3"
  }
 },
 "nbformat": 4,
 "nbformat_minor": 5
}
